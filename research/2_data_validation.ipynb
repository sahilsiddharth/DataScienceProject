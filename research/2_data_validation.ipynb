{
 "cells": [
  {
   "cell_type": "code",
   "execution_count": 2,
   "metadata": {},
   "outputs": [],
   "source": [
    "import os\n",
    "%pwd\n",
    "os.chdir(\"../\")"
   ]
  },
  {
   "cell_type": "code",
   "execution_count": 3,
   "metadata": {},
   "outputs": [
    {
     "data": {
      "text/plain": [
       "'c:\\\\Users\\\\t0263519\\\\Desktop\\\\Study\\\\PYTHON\\\\MLFLOW-Projects\\\\DataScienceProject-1'"
      ]
     },
     "execution_count": 3,
     "metadata": {},
     "output_type": "execute_result"
    }
   ],
   "source": [
    "%pwd"
   ]
  },
  {
   "cell_type": "code",
   "execution_count": 4,
   "metadata": {},
   "outputs": [],
   "source": [
    "from dataclasses import dataclass\n",
    "from pathlib import Path\n",
    "@dataclass\n",
    "class DataValidationConfig:\n",
    "    root_dir: Path\n",
    "    unzip_data_dir: Path\n",
    "    STATUS_FILE: str\n",
    "    all_schema: dict\n",
    "    "
   ]
  },
  {
   "cell_type": "code",
   "execution_count": 8,
   "metadata": {},
   "outputs": [],
   "source": [
    "from src.DataScience.constants import *\n",
    "from src.DataScience.utils.common import *\n",
    "import zipfile\n",
    "import os\n",
    "import pandas as pd"
   ]
  },
  {
   "cell_type": "code",
   "execution_count": 11,
   "metadata": {},
   "outputs": [],
   "source": [
    "class ConfigurationManager():\n",
    "    def __init__(self, config_file_path=CONFIG_FILE_PATH, \n",
    "                 params_file_path=PARAMS_FILE_PATH,\n",
    "                 schema_file_path=SCHEMA_FILE_PATH):\n",
    "        self.config=read_yaml(config_file_path)\n",
    "        self.params=read_yaml(params_file_path)\n",
    "        self.schema=read_yaml(schema_file_path)\n",
    "        create_directories([self.config.artifacts_root])\n",
    "    \n",
    "    def get_data_validation_config(self)-> DataValidationConfig:\n",
    "        config=self.config.data_validation\n",
    "        schema=self.schema.COLUMNS\n",
    "        create_directories([config.root_dir])\n",
    "\n",
    "        data_validation_config=DataValidationConfig(\n",
    "            root_dir=config.root_dir,\n",
    "            unzip_data_dir=config.unzip_data_dir,\n",
    "            STATUS_FILE=config.STATUS_FILE,\n",
    "            all_schema=schema\n",
    "\n",
    "        )\n",
    "        return data_validation_config"
   ]
  },
  {
   "cell_type": "code",
   "execution_count": 7,
   "metadata": {},
   "outputs": [],
   "source": [
    "import os\n",
    "from src.DataScience import logger"
   ]
  },
  {
   "cell_type": "code",
   "execution_count": 9,
   "metadata": {},
   "outputs": [],
   "source": [
    "class DataValidation:\n",
    "    def __init__(self, config: DataValidationConfig):\n",
    "        self.config=config\n",
    "    \n",
    "\n",
    "    def validate_columns(self) ->bool:\n",
    "        try:\n",
    "            vailidation_status=None\n",
    "            data=pd.read_csv(self.config.unzip_data_dir)\n",
    "            all_columns=list(data.columns)\n",
    "            schema_cols=self.config.all_schema.keys()\n",
    "\n",
    "            for col in all_columns:\n",
    "                if col not in schema_cols:\n",
    "                    vailidation_status=False\n",
    "                    with open(self. config.STATUS_FILE, 'w') as f:\n",
    "                        f.write(f\"Validation Status: {vailidation_status}\")\n",
    "                else:\n",
    "                    vailidation_status=True\n",
    "                    with open(self. config.STATUS_FILE, 'w') as f:\n",
    "                        f.write(f\"Validation Status: {vailidation_status}\")\n",
    "            return vailidation_status\n",
    "\n",
    "\n",
    "            \n",
    "        except Exception as e :\n",
    "            raise e\n"
   ]
  },
  {
   "cell_type": "code",
   "execution_count": 12,
   "metadata": {},
   "outputs": [
    {
     "name": "stdout",
     "output_type": "stream",
     "text": [
      "[2025-02-10 12:19:43,509: INFO: common: yaml file config\\config.yaml loaded successfully:]\n",
      "[2025-02-10 12:19:43,510: INFO: common: yaml file params.yaml loaded successfully:]\n",
      "[2025-02-10 12:19:43,514: INFO: common: yaml file schema.yaml loaded successfully:]\n",
      "[2025-02-10 12:19:43,516: INFO: common:  directory artifacts created:]\n",
      "[2025-02-10 12:19:43,518: INFO: common:  directory artifacts/data_validation created:]\n"
     ]
    }
   ],
   "source": [
    "try:\n",
    "    config=ConfigurationManager()\n",
    "    data_validation_config=config.get_data_validation_config()\n",
    "    data_validation=DataValidation(config=data_validation_config)\n",
    "    data_validation.validate_columns()\n",
    "except Exception as e:\n",
    "    raise e\n",
    "\n",
    "    "
   ]
  },
  {
   "cell_type": "code",
   "execution_count": null,
   "metadata": {},
   "outputs": [],
   "source": []
  }
 ],
 "metadata": {
  "kernelspec": {
   "display_name": "Python 3",
   "language": "python",
   "name": "python3"
  },
  "language_info": {
   "codemirror_mode": {
    "name": "ipython",
    "version": 3
   },
   "file_extension": ".py",
   "mimetype": "text/x-python",
   "name": "python",
   "nbconvert_exporter": "python",
   "pygments_lexer": "ipython3",
   "version": "3.10.16"
  }
 },
 "nbformat": 4,
 "nbformat_minor": 2
}
